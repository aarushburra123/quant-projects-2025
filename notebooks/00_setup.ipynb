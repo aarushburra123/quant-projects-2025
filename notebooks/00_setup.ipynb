#Jupyter notebooks for analysis and plots. Start with 00_setup.ipynb; later: 01_spy_plot.ipynb, factor_backtest.ipynb, options_pricer.ipynb.

#
