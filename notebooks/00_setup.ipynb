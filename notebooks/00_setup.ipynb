# Jupyter notebooks for analysis/plots
{
  "cells": [
    {"cell_type":"markdown","metadata":{},"source":["# 00_setup\n","Starter notebook — will be filled later."]},
    {"cell_type":"code","metadata":{},"execution_count":null,"outputs":[],"source":["print('Repo scaffold OK')"]}
  ],
  "metadata": {},
  "nbformat": 4,
  "nbformat_minor": 5
}

